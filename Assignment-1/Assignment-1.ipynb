{
  "cells": [
    {
      "cell_type": "code",
      "execution_count": null,
      "metadata": {
        "colab": {
          "base_uri": "https://localhost:8080/"
        },
        "id": "GKMe816bNfM0",
        "outputId": "7552cf13-332e-4f40-b30b-e13ad7a45bfe"
      },
      "outputs": [
        {
          "name": "stdout",
          "output_type": "stream",
          "text": [
            "Original array: [1 2 3 4 5]\n",
            "Reversed array: [5 4 3 2 1]\n"
          ]
        }
      ],
      "source": [
        "import numpy as np\n",
        "arr = np.array([1, 2, 3, 4, 5])\n",
        "rev_arr = arr[::-1]\n",
        "print(\"Original array:\", arr)\n",
        "print(\"Reversed array:\", rev_arr)"
      ]
    },
    {
      "cell_type": "code",
      "execution_count": null,
      "metadata": {
        "colab": {
          "base_uri": "https://localhost:8080/"
        },
        "id": "tfl8S8a5ONxU",
        "outputId": "f78eb301-9a21-4cd0-b655-f8046b78faa2"
      },
      "outputs": [
        {
          "name": "stdout",
          "output_type": "stream",
          "text": [
            "Original array: [1 2 3 4 5]\n",
            "Flattened array: [1 2 3 4 5]\n"
          ]
        }
      ],
      "source": [
        "import numpy as np\n",
        "array1 = np.array([[1,2,3],[2,4,5],[1,2,3]])\n",
        "f_arr = arr.flatten()\n",
        "print(\"Original array:\", arr)\n",
        "print(\"Flattened array:\", f_arr)"
      ]
    },
    {
      "cell_type": "code",
      "execution_count": null,
      "metadata": {
        "colab": {
          "base_uri": "https://localhost:8080/"
        },
        "id": "ax6o08bGPI4a",
        "outputId": "3031d644-b12a-44cd-e171-9a021aa98f2f"
      },
      "outputs": [
        {
          "name": "stdout",
          "output_type": "stream",
          "text": [
            "Original array: [1 2 3 4 5]\n",
            "Flattened array: [1 2 3 4 5]\n"
          ]
        }
      ],
      "source": [
        "import numpy as np\n",
        "array2 = np.array([[1,2,3],[2,4,5],[1,2,3]])\n",
        "r_arr = arr.ravel()\n",
        "print(\"Original array:\",arr)\n",
        "print(\"Flattened array:\",r_arr)"
      ]
    },
    {
      "cell_type": "code",
      "execution_count": 1,
      "metadata": {
        "colab": {
          "base_uri": "https://localhost:8080/"
        },
        "id": "JwLJqMtyQj8c",
        "outputId": "fabca32f-d368-4007-c480-0ae81c8d1780"
      },
      "outputs": [
        {
          "name": "stdout",
          "output_type": "stream",
          "text": [
            "compare the array \n",
            " [[ True  True]\n",
            " [ True  True]]\n"
          ]
        }
      ],
      "source": [
        "import numpy as np\n",
        "array1=np.array([[1,2],[3,4]])\n",
        "array2=np.array([[1,2],[3,4]])\n",
        "compare = array1 == array2\n",
        "\n",
        "print(\"compare the array \\n\",compare)"
      ]
    },
    {
      "cell_type": "code",
      "execution_count": 2,
      "metadata": {
        "colab": {
          "base_uri": "https://localhost:8080/"
        },
        "collapsed": true,
        "id": "zk_Cw1BfRwTm",
        "outputId": "c61f47d7-b45a-451b-8d99-748efce752ed"
      },
      "outputs": [
        {
          "name": "stdout",
          "output_type": "stream",
          "text": [
            "Most frequent value: 1\n",
            "Indices of the most frequent value: [0 5 7 8 9]\n"
          ]
        }
      ],
      "source": [
        "import numpy as np\n",
        "x = np.array([1, 2, 3, 4, 5, 1, 2, 1, 1, 1])\n",
        "values, counts = np.unique(x, return_counts=True)\n",
        "most_frequent_value = values[np.argmax(counts)]\n",
        "indices = np.where(x == most_frequent_value)[0]\n",
        "print(f\"Most frequent value: {most_frequent_value}\")\n",
        "print(f\"Indices of the most frequent value: {indices}\")"
      ]
    },
    {
      "cell_type": "code",
      "execution_count": 2,
      "metadata": {
        "colab": {
          "base_uri": "https://localhost:8080/"
        },
        "id": "Yf2BWnmdoIK7",
        "outputId": "d5c4186b-a738-4de2-ec3a-3136efec534a"
      },
      "outputs": [
        {
          "name": "stdout",
          "output_type": "stream",
          "text": [
            "Most frequent value: 1\n",
            "Indices of the most frequent value: [0 1 2]\n"
          ]
        }
      ],
      "source": [
        "import numpy as np\n",
        "x = np.array([1, 1 , 1 , 2 , 3 , 4 , 2 , 4 , 3 , 3])\n",
        "values, counts = np.unique(x, return_counts=True)\n",
        "most_frequent_value = values[np.argmax(counts)]\n",
        "indices = np.where(x == most_frequent_value)[0]\n",
        "print(f\"Most frequent value: {most_frequent_value}\")\n",
        "print(f\"Indices of the most frequent value: {indices}\")"
      ]
    },
    {
      "cell_type": "code",
      "execution_count": 4,
      "metadata": {
        "colab": {
          "base_uri": "https://localhost:8080/"
        },
        "id": "LcUn6HnHV5wU",
        "outputId": "74c44cb2-48d3-43bc-afdd-8b6cc4509646"
      },
      "outputs": [
        {
          "name": "stdout",
          "output_type": "stream",
          "text": [
            "Sum of array :  45\n"
          ]
        }
      ],
      "source": [
        "import numpy as np\n",
        "gfg = np.array([[4, 1, 9], [12, 3, 1], [4, 5, 6]])\n",
        "sum_is = np.sum(gfg)\n",
        "print(\"Sum of array : \",sum_is)"
      ]
    },
    {
      "cell_type": "code",
      "execution_count": 3,
      "metadata": {
        "colab": {
          "base_uri": "https://localhost:8080/"
        },
        "id": "lptCMtg_XYqA",
        "outputId": "c52e8d8e-4534-4c6f-dcd3-0ae6107fde30"
      },
      "outputs": [
        {
          "name": "stdout",
          "output_type": "stream",
          "text": [
            "Sum of array row wise :  [14 16 15]\n"
          ]
        }
      ],
      "source": [
        "import numpy as np\n",
        "gfg = np.array([[4, 1, 9], [12, 3, 1], [4, 5, 6]])\n",
        "sum_is = np.sum(gfg,axis=1)\n",
        "print(\"Sum of array row wise : \",sum_is)"
      ]
    },
    {
      "cell_type": "code",
      "execution_count": 5,
      "metadata": {
        "colab": {
          "base_uri": "https://localhost:8080/"
        },
        "id": "C53BpiKhX6oR",
        "outputId": "da2f2283-2988-4635-f8e2-6b1e937575f4"
      },
      "outputs": [
        {
          "name": "stdout",
          "output_type": "stream",
          "text": [
            "Sum of array column wise :  [20  9 16]\n"
          ]
        }
      ],
      "source": [
        "import numpy as np\n",
        "gfg = np.array([[4, 1, 9], [12, 3, 1], [4, 5, 6]])\n",
        "sum_is = np.sum(gfg,axis=0)\n",
        "print(\"Sum of array column wise : \",sum_is)"
      ]
    },
    {
      "cell_type": "code",
      "execution_count": null,
      "metadata": {
        "colab": {
          "base_uri": "https://localhost:8080/"
        },
        "id": "tSP2-k1LKpaB",
        "outputId": "04c5c026-227d-42ec-9d83-d6667f559c4c"
      },
      "outputs": [
        {
          "name": "stdout",
          "output_type": "stream",
          "text": [
            "Matrix multiplication result:\n",
            " [[16 19]\n",
            " [26 31]]\n",
            "Covariance matrix:\n",
            " [[0.5 0.5 0.5 0.5]\n",
            " [0.5 0.5 0.5 0.5]\n",
            " [0.5 0.5 0.5 0.5]\n",
            " [0.5 0.5 0.5 0.5]]\n"
          ]
        }
      ],
      "source": [
        "import numpy as np\n",
        "p = [[1, 2], [2, 3]]\n",
        "q = [[4, 5], [6, 7]]\n",
        "result = np.dot(p, q)\n",
        "print(\"Matrix multiplication result:\\n\", result)\n",
        "cov = np.cov(p, q)\n",
        "print(\"Covariance matrix:\\n\",cov)"
      ]
    },
    {
      "cell_type": "code",
      "execution_count": null,
      "metadata": {
        "colab": {
          "base_uri": "https://localhost:8080/"
        },
        "id": "7OOMNjM2K39T",
        "outputId": "ecb4d2e7-6240-44ae-9fb0-14c0f425780b"
      },
      "outputs": [
        {
          "name": "stdout",
          "output_type": "stream",
          "text": [
            "Matrix multiplication result:\n",
            " [[16 19  5]\n",
            " [26 31  8]\n",
            " [46 55 14]]\n"
          ]
        }
      ],
      "source": [
        "import numpy as np\n",
        "p = [[1, 2], [2, 3], [4, 5]]\n",
        "q = [[4, 5, 1], [6, 7, 2]]\n",
        "result = np.dot(p, q)\n",
        "print(\"Matrix multiplication result:\\n\",result)"
      ]
    },
    {
      "cell_type": "code",
      "execution_count": null,
      "metadata": {
        "colab": {
          "base_uri": "https://localhost:8080/"
        },
        "id": "Asxfq16FLWcp",
        "outputId": "e30952e5-bcc2-4207-8e45-bb246ffa943d"
      },
      "outputs": [
        {
          "name": "stdout",
          "output_type": "stream",
          "text": [
            "Sum of diagonal elements: 176\n",
            "Eigenvalues of matrix: [98.16835147 28.097044   49.73460452]\n",
            "Eigenvectors of matrix:\n",
            " [[ 0.4574917   0.34637121 -0.15017693]\n",
            " [ 0.28447814 -0.72784061 -0.4852124 ]\n",
            " [ 0.84248058  0.59184038  0.8614034 ]]\n",
            "Inverse of matrix:\n",
            " [[ 0.02404141 -0.00911212 -0.00444671]\n",
            " [-0.01667882  0.02966905  0.0024785 ]\n",
            " [ 0.00631287 -0.01603732  0.01217379]]\n",
            "Determinant of matrix: 137180.0000000001\n"
          ]
        }
      ],
      "source": [
        "import numpy as np\n",
        "n_array = np.array([[55, 25, 15],\n",
        "                    [30, 44, 2],\n",
        "                    [11, 45, 77]])\n",
        "sum_diagonal = np.trace(n_array)\n",
        "eigenvalues = np.linalg.eigvals(n_array)\n",
        "eigenvalues, eigenvectors = np.linalg.eig(n_array)\n",
        "inverse_matrix = np.linalg.inv(n_array)\n",
        "determinant = np.linalg.det(n_array)\n",
        "print(\"Sum of diagonal elements:\", sum_diagonal)\n",
        "print(\"Eigenvalues of matrix:\", eigenvalues)\n",
        "print(\"Eigenvectors of matrix:\\n\", eigenvectors)\n",
        "print(\"Inverse of matrix:\\n\", inverse_matrix)\n",
        "print(\"Determinant of matrix:\", determinant)"
      ]
    },
    {
      "cell_type": "code",
      "execution_count": null,
      "metadata": {
        "colab": {
          "base_uri": "https://localhost:8080/"
        },
        "id": "8Bpx4LESLyTu",
        "outputId": "e8241f2d-3aba-4c53-d649-e447951d8817"
      },
      "outputs": [
        {
          "name": "stdout",
          "output_type": "stream",
          "text": [
            "Inner product:\n",
            " [[17 52]\n",
            " [13 62]]\n",
            "Outer product:\n",
            " [[ 2 10  0 10 20  6]\n",
            " [ 3 15  0 15 30  9]\n",
            " [ 4 20  0 20 40 12]\n",
            " [ 3 15  0 15 30  9]\n",
            " [ 2 10  0 10 20  6]\n",
            " [ 9 45  0 45 90 27]]\n"
          ]
        }
      ],
      "source": [
        "import numpy as np\n",
        "x = np.array([[2, 3, 4], [3, 2, 9]])\n",
        "y = np.array([[1, 5, 0], [5, 10, 3]])\n",
        "inner = np.inner(x, y)\n",
        "outer = np.outer(x, y)\n",
        "print(\"Inner product:\\n\", inner)\n",
        "print(\"Outer product:\\n\", outer)"
      ]
    },
    {
      "cell_type": "code",
      "execution_count": null,
      "metadata": {
        "colab": {
          "base_uri": "https://localhost:8080/"
        },
        "id": "Xg1Qo6CpMFpf",
        "outputId": "c2403211-08c7-4b8e-c16c-a30789c92586"
      },
      "outputs": [
        {
          "name": "stdout",
          "output_type": "stream",
          "text": [
            "Floor values: [-2. -2. -1.  0.  1.  1.  3.]\n",
            "Ceiling values: [-1. -1. -0.  1.  2.  2.  3.]\n",
            "Rounded values: [-2. -2. -0.  0.  2.  2.  3.]\n"
          ]
        }
      ],
      "source": [
        "import numpy as np\n",
        "a = np.array([-1.8, -1.6, -0.5, 0.5,1.6, 1.8, 3.0])\n",
        "floor = np.floor(a)\n",
        "ceiling = np.ceil(a)\n",
        "truncated = np\n",
        "rounded = np.round(a)\n",
        "print(\"Floor values:\", floor)\n",
        "print(\"Ceiling values:\", ceiling)\n",
        "print(\"Rounded values:\", rounded)"
      ]
    },
    {
      "cell_type": "code",
      "execution_count": null,
      "metadata": {
        "colab": {
          "base_uri": "https://localhost:8080/"
        },
        "id": "RcpFr6bgMWa2",
        "outputId": "4a302ecd-2c79-48f2-ff0e-1b2cf974aaec"
      },
      "outputs": [
        {
          "name": "stdout",
          "output_type": "stream",
          "text": [
            "Element-wise absolute values:\n",
            " [[1 2 3]\n",
            " [4 5 6]]\n",
            "25th percentile of flattened array:\n",
            " -3.5\n",
            "50th percentile of flattened array:\n",
            " -0.5\n",
            "75th percentile of flattened array:\n",
            " 2.5\n",
            "Mean of flattened array: -0.5\n",
            "Median of flattened array: -0.5\n",
            "Standard deviation of flattened array: 3.8622100754188224\n"
          ]
        }
      ],
      "source": [
        "import numpy as np\n",
        "\n",
        "array = np.array([[1, -2, 3],[-4, 5, -6]])\n",
        "\n",
        "abs_values = np.abs(array)\n",
        "print(\"Element-wise absolute values:\\n\", abs_values)\n",
        "\n",
        "array = np.array([[1, -2, 3],[-4, 5, -6]])\n",
        "percentile_25 = np.percentile(array, 25)\n",
        "print(\"25th percentile of flattened array:\\n\", percentile_25)\n",
        "\n",
        "percentile_50 = np.percentile(array, 50)\n",
        "print(\"50th percentile of flattened array:\\n\", percentile_50)\n",
        "\n",
        "percentile_75 = np.percentile(array, 75)\n",
        "print(\"75th percentile of flattened array:\\n\", percentile_75)\n",
        "\n",
        "mean = np.mean(array)\n",
        "print(\"Mean of flattened array:\", mean)\n",
        "\n",
        "median = np.median(array)\n",
        "print(\"Median of flattened array:\", median)\n",
        "\n",
        "std_dev = np.std(array)\n",
        "print(\"Standard deviation of flattened array:\", std_dev)\n"
      ]
    },
    {
      "cell_type": "code",
      "execution_count": null,
      "metadata": {
        "colab": {
          "base_uri": "https://localhost:8080/"
        },
        "id": "h0sgMFWFMvJ3",
        "outputId": "8b359322-3893-49f7-f291-8055674bc0ec"
      },
      "outputs": [
        {
          "name": "stdout",
          "output_type": "stream",
          "text": [
            "Sorted array: [ 10  16  16  52  54  62 453]\n",
            "Indices of sorted array: [0 3 4 1 5 2 6]\n",
            "4 smallest elements: [16 10 16 52]\n",
            "5 largest elements: [ 16  52  62  54 453]\n"
          ]
        }
      ],
      "source": [
        "import numpy as np\n",
        "\n",
        "array = np.array([10, 52, 62, 16, 16, 54, 453])\n",
        "\n",
        "sorted_array = np.sort(array)\n",
        "\n",
        "sorted_indices = np.argsort(array)\n",
        "\n",
        "four_smallest_elements = np.partition(array, 4)[:4]\n",
        "\n",
        "five_largest_elements = np.partition(array, -5)[-5:]\n",
        "\n",
        "print(\"Sorted array:\", sorted_array)\n",
        "print(\"Indices of sorted array:\", sorted_indices)\n",
        "print(\"4 smallest elements:\", four_smallest_elements)\n",
        "print(\"5 largest elements:\", five_largest_elements)\n"
      ]
    },
    {
      "cell_type": "code",
      "execution_count": null,
      "metadata": {
        "colab": {
          "base_uri": "https://localhost:8080/"
        },
        "id": "7Rag11kVM30K",
        "outputId": "f2e9ae09-315a-4af3-f16a-a42cd04586fc"
      },
      "outputs": [
        {
          "name": "stdout",
          "output_type": "stream",
          "text": [
            "Integer elements only: [1. 2. 3. 2.]\n",
            "Float elements only: [1.2 2.2]\n"
          ]
        }
      ],
      "source": [
        "import numpy as np\n",
        "\n",
        "array = np.array([1.0, 1.2, 2.2, 2.0, 3.0, 2.0])\n",
        "\n",
        "integer_elements = array[array == np.floor(array)]\n",
        "\n",
        "float_elements = array[array != np.floor(array)]\n",
        "\n",
        "print(\"Integer elements only:\", integer_elements)\n",
        "print(\"Float elements only:\", float_elements)"
      ]
    },
    {
      "cell_type": "code",
      "execution_count": 6,
      "metadata": {
        "colab": {
          "base_uri": "https://localhost:8080/",
          "height": 322
        },
        "id": "sSjznQRpNGop",
        "outputId": "bcd24066-009c-4a4e-ba9c-6435c425169d"
      },
      "outputs": [],
      "source": [
        "from PIL import Image\n",
        "import numpy as np\n",
        "\n",
        "def img_to_array(path):\n",
        "    img = Image.open(path)\n",
        "    img_array = np.array(img)\n",
        "\n",
        "    if img.mode == 'RGB':\n",
        "        np.savetxt('rgb_image_array.txt', img_array.reshape(-1, 3), fmt='%d', delimiter=',')\n",
        "\n",
        "    elif img.mode == 'L':\n",
        "        np.savetxt('grayscale_image_array.txt', img_array, fmt='%d', delimiter=',')\n",
        "\n",
        "    else:\n",
        "        raise ValueError(\"Unsupported image mode: {}\".format(img.mode))\n",
        "\n",
        "img_to_array('djokovic.png')"
      ]
    },
    {
      "cell_type": "code",
      "execution_count": 12,
      "metadata": {
        "id": "NwJDrxM7qx1G"
      },
      "outputs": [
        {
          "name": "stdout",
          "output_type": "stream",
          "text": [
            "[[ 96 132 158]\n",
            " [ 96 132 158]\n",
            " [ 96 132 156]\n",
            " ...\n",
            " [108 139 157]\n",
            " [108 140 155]\n",
            " [108 140 155]]\n"
          ]
        }
      ],
      "source": [
        "import numpy as np \n",
        "data = np.genfromtxt(\"rgb_image_array.txt\", dtype=int, encoding=None, delimiter=\",\") \n",
        "print(data) \n"
      ]
    }
  ],
  "metadata": {
    "colab": {
      "provenance": []
    },
    "kernelspec": {
      "display_name": "Python 3",
      "name": "python3"
    },
    "language_info": {
      "codemirror_mode": {
        "name": "ipython",
        "version": 3
      },
      "file_extension": ".py",
      "mimetype": "text/x-python",
      "name": "python",
      "nbconvert_exporter": "python",
      "pygments_lexer": "ipython3",
      "version": "3.11.4"
    }
  },
  "nbformat": 4,
  "nbformat_minor": 0
}
